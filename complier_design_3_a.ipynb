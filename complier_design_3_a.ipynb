{
  "nbformat": 4,
  "nbformat_minor": 0,
  "metadata": {
    "colab": {
      "provenance": [],
      "authorship_tag": "ABX9TyMrT+xokul13yxlb1wI8SB0",
      "include_colab_link": true
    },
    "kernelspec": {
      "name": "python3",
      "display_name": "Python 3"
    },
    "language_info": {
      "name": "python"
    }
  },
  "cells": [
    {
      "cell_type": "markdown",
      "metadata": {
        "id": "view-in-github",
        "colab_type": "text"
      },
      "source": [
        "<a href=\"https://colab.research.google.com/github/manikanta2141/m1/blob/main/complier_design_3_a.ipynb\" target=\"_parent\"><img src=\"https://colab.research.google.com/assets/colab-badge.svg\" alt=\"Open In Colab\"/></a>"
      ]
    },
    {
      "cell_type": "markdown",
      "source": [
        "write a lex program to recognize all the tokens in the given input file  "
      ],
      "metadata": {
        "id": "TfoxAKxnJun7"
      }
    },
    {
      "cell_type": "code",
      "execution_count": 2,
      "metadata": {
        "id": "MsnCDzCxIPP0",
        "colab": {
          "base_uri": "https://localhost:8080/"
        },
        "outputId": "f3a9921d-b99f-4243-888e-05f21dc7348d"
      },
      "outputs": [
        {
          "output_type": "stream",
          "name": "stdout",
          "text": [
            "Reading package lists... Done\n",
            "Building dependency tree... Done\n",
            "Reading state information... Done\n",
            "flex is already the newest version (2.6.4-8build2).\n",
            "Suggested packages:\n",
            "  bison-doc\n",
            "The following NEW packages will be installed:\n",
            "  bison\n",
            "0 upgraded, 1 newly installed, 0 to remove and 49 not upgraded.\n",
            "Need to get 748 kB of archives.\n",
            "After this operation, 2,519 kB of additional disk space will be used.\n",
            "Get:1 http://archive.ubuntu.com/ubuntu jammy/main amd64 bison amd64 2:3.8.2+dfsg-1build1 [748 kB]\n",
            "Fetched 748 kB in 1s (1,111 kB/s)\n",
            "Selecting previously unselected package bison.\n",
            "(Reading database ... 123724 files and directories currently installed.)\n",
            "Preparing to unpack .../bison_2%3a3.8.2+dfsg-1build1_amd64.deb ...\n",
            "Unpacking bison (2:3.8.2+dfsg-1build1) ...\n",
            "Setting up bison (2:3.8.2+dfsg-1build1) ...\n",
            "update-alternatives: using /usr/bin/bison.yacc to provide /usr/bin/yacc (yacc) in auto mode\n",
            "Processing triggers for man-db (2.10.2-1) ...\n"
          ]
        }
      ],
      "source": [
        "!apt-get install flex bison"
      ]
    },
    {
      "cell_type": "code",
      "source": [
        "%%writefile lexer.l\n",
        "%{\n",
        "  #include<stdio.h>\n",
        "%}\n",
        "%%\n",
        "\n",
        "\"while\"|\"if\"|\"else\"  {printf(\"\\n keywords : %s\",yytext);}\n",
        "\"int\"|\"float\"  {printf(\"\\n keywords : %s\",yytext);}\n",
        "[a-zA-Z_][a-zA-Z0-9_]*  {printf(\"\\n identifier : %s\",yytext);}\n",
        "\"<=\"|\"==\"|\"=\"|\"++\"|\"-\"|\"*\"|\"+\"  {printf(\"\\n operator : %s\",yytext);}\n",
        "[0-9]*\".\"[0-9]+  {printf(\"\\n float : %s\",yytext);}\n",
        "[0-9]+ {printf(\"\\n integer : %s\",yytext);}\n",
        "\n",
        "%%\n",
        "int yywrap(void)\n",
        "{\n",
        "  return 0;\n",
        "}\n",
        "int main()\n",
        "{\n",
        "         yylex();\n",
        "      return 0;\n",
        "}"
      ],
      "metadata": {
        "colab": {
          "base_uri": "https://localhost:8080/"
        },
        "id": "-2zA5a76AW0p",
        "outputId": "394a3536-da46-465e-ba59-5ebdc85ad8fe"
      },
      "execution_count": 3,
      "outputs": [
        {
          "output_type": "stream",
          "name": "stdout",
          "text": [
            "Writing lexer.l\n"
          ]
        }
      ]
    },
    {
      "cell_type": "code",
      "source": [
        "!flex lexer.l"
      ],
      "metadata": {
        "id": "BkcjMtR_F1E2"
      },
      "execution_count": 4,
      "outputs": []
    },
    {
      "cell_type": "code",
      "source": [
        "!gcc lex.yy.c"
      ],
      "metadata": {
        "id": "1hOJ_aA_F_Yh"
      },
      "execution_count": 5,
      "outputs": []
    },
    {
      "cell_type": "code",
      "source": [
        "!./a.out"
      ],
      "metadata": {
        "colab": {
          "base_uri": "https://localhost:8080/"
        },
        "id": "zlhx8yyTGDpy",
        "outputId": "67892304-0ffc-4206-dd65-1ca413457965"
      },
      "execution_count": null,
      "outputs": [
        {
          "output_type": "stream",
          "name": "stdout",
          "text": [
            "hello complier design 5677.34 9798 int == +\n",
            "\n",
            " identifier : hello \n",
            " identifier : complier \n",
            " identifier : design \n",
            " float : 5677.34 \n",
            " integer : 9798 \n",
            " keywords : int \n",
            " operator : == \n",
            " operator : +\n"
          ]
        }
      ]
    }
  ]
}